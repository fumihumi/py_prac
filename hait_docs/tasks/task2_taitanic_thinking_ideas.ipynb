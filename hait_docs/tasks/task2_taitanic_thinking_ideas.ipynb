{
 "cells": [
  {
   "cell_type": "code",
   "execution_count": 31,
   "metadata": {},
   "outputs": [],
   "source": [
    "# モジュールインポート\n",
    "import pandas as pd\n",
    "import matplotlib.pyplot as plt\n",
    "%matplotlib inline\n",
    "import seaborn as sns\n",
    "import numpy as np\n",
    "from numpy import nan\n",
    "from sklearn.model_selection import train_test_split\n",
    "from sklearn.ensemble import RandomForestClassifier\n",
    "from sklearn.metrics import (roc_curve, auc, accuracy_score)\n",
    "import math\n",
    "import copy"
   ]
  },
  {
   "cell_type": "code",
   "execution_count": 32,
   "metadata": {},
   "outputs": [],
   "source": [
    "\n",
    "def read_titanic_train():\n",
    "     return pd.read_csv(\"../datasets/titanic_train.csv\")\n",
    "\n",
    "def read_titanic_test():\n",
    "        return pd.read_csv(\"../datasets/titanic_test.csv\")\n",
    "# read file関連を定義したものの正直関数にする必要はなかったと思いました。\n",
    "    \n",
    "def name2int(data):\n",
    "    # 名前の敬称を元にnameに対応したintとして管理する。\n",
    "    # WHY : 文字列だと分析する際に利用しにくいため、\n",
    "    #このような感じで管理。 {'Mrs':0 , 'Miss':1, 'Mr':2,'Master':3, 'その他':4}\n",
    "    name2int_ary = []\n",
    "    for name in np.array(data.Name):\n",
    "        separated_name  = name.split(',')[1]\n",
    "        if 'Mrs' in separated_name:\n",
    "            name2int_ary.append(0)\n",
    "        elif 'Miss' in separated_name:\n",
    "            name2int_ary.append(1)\n",
    "        elif 'Mr' in separated_name:\n",
    "            name2int_ary.append(2)\n",
    "        elif 'Master' in separated_name:\n",
    "            name2int_ary.append(3)\n",
    "        else:\n",
    "            name2int_ary.append(4)\n",
    "    data['name2int'] = name2int_ary\n",
    "    data = data.drop(['Name'],axis=1)        \n",
    "    return data\n",
    "# name2int_ary[0:len(name2int_ary)]\n",
    "\n",
    "# name2intで分類分けした各敬称の年齢の平均の計算用メソッド\n",
    "##  //// df[df.Name.str.contains(\"Mr.\")].Age.mean()\n",
    "## とすることで、 Mrの年齢を計算できる。（このメソッド不要だった説。。。作ったので使ってますw）\n",
    "def avg_name2int(loc, df):\n",
    "    sum_age = 0\n",
    "    length = 0\n",
    "    for age in np.array(df[df['name2int' ]== loc].iloc[:,0:len( np.array(df['name2int']))]['Age']):\n",
    "        if not math.isnan(age):\n",
    "             sum_age += age\n",
    "             length += 1\n",
    "    avg = sum_age / length\n",
    "    return  round(avg , 0) \n",
    "\n",
    "\n",
    "def embed_age(age_ary, df):\n",
    "    for i, num in enumerate(age_ary):\n",
    "        if math.isnan(num):\n",
    "            if df.iloc[i].name2int == 0:\n",
    "                df.at[i,'Age'] =  avg_name2int(0,df)\n",
    "            elif df.iloc[i].name2int == 1:\n",
    "                df.at[i,'Age'] =  avg_name2int(1,df)\n",
    "            elif df.iloc[i].name2int == 2:\n",
    "                df.at[i,'Age'] =  avg_name2int(2,df)\n",
    "            elif df.iloc[i].name2int == 3:\n",
    "                df.at[i,'Age'] =  avg_name2int(3,df)\n",
    "            elif df.iloc[i].name2int == 4:\n",
    "                df.at[i,'Age'] =  avg_name2int(4,df)\n",
    "            else: \n",
    "                df.at[i,'Age'] = df['Age'].median()\n"
   ]
  },
  {
   "cell_type": "code",
   "execution_count": 33,
   "metadata": {},
   "outputs": [],
   "source": [
    "df = read_titanic_train()\n",
    "# 欠損が多いものを削除\n",
    "df.drop(['PassengerId',  'Ticket', 'Cabin'], axis=1, inplace=True)\n",
    "\n",
    "# ムダな文字列の置換とデータの補足 to me\n",
    "df.Embarked = df.Embarked.replace(['C', 'S', 'Q'], [0, 1, 2])\n",
    "# Cherbourg: 0 , Queenstown, : 1 , Southampton: 2\n",
    "df.Sex = df.Sex.replace(['male', 'female'], [0, 1])\n",
    "# df.Age = df.Age.replace('NaN', 0)\n",
    "\n",
    "df['Fare'] = df['Fare'].fillna(df['Fare'].median())\n",
    "\n",
    "#いくつかのカラムを削除。\n",
    "\n",
    "# df = df.drop(['Cabin','Name','PassengerId','Ticket'],axis=1)\n",
    "\n",
    "\n",
    "\n",
    "# df['Age'] = df['Age'].fillna(df['Age'].median())\n",
    "name2int(df)\n",
    "\n",
    "age_ary =  np.array(df.Age)[0:len( np.array(df.Age))]\n",
    "\n",
    "embed_age(age_ary, df)\n",
    "df = df.drop(['Name'],axis=1)\n",
    "\n",
    "\n",
    "\n",
    "# # print(\"----------------------------\")\n",
    "# print(f'count : {df.count()}')\n",
    "# # print(\"----------------------------\")\n",
    "# print(f'count : {df.dropna().count()}')\n",
    "\n",
    "##################\n",
    "## df.isnull().sum()\n",
    "# Survived      0\n",
    "# Pclass        0\n",
    "# Sex           0\n",
    "# Age         177\n",
    "# SibSp         0\n",
    "# Parch         0\n",
    "# Fare          0\n",
    "# Embarked      2\n",
    "# dtype: int64\n",
    "###################\n",
    "\n",
    "\n",
    "#  FIXME 年齢は男女別に分けたほうがいいかも   done \n",
    "### TODO  ticketで分けてみるのも面白いかも？w  \n",
    "\n",
    "\n",
    "#TODO  死亡確率がどこの特徴と変動しているかグラフで見た方がいい説。濃厚"
   ]
  },
  {
   "cell_type": "code",
   "execution_count": 34,
   "metadata": {},
   "outputs": [
    {
     "data": {
      "text/html": [
       "<div>\n",
       "<style scoped>\n",
       "    .dataframe tbody tr th:only-of-type {\n",
       "        vertical-align: middle;\n",
       "    }\n",
       "\n",
       "    .dataframe tbody tr th {\n",
       "        vertical-align: top;\n",
       "    }\n",
       "\n",
       "    .dataframe thead th {\n",
       "        text-align: right;\n",
       "    }\n",
       "</style>\n",
       "<table border=\"1\" class=\"dataframe\">\n",
       "  <thead>\n",
       "    <tr style=\"text-align: right;\">\n",
       "      <th></th>\n",
       "      <th>Survived</th>\n",
       "      <th>Pclass</th>\n",
       "      <th>Sex</th>\n",
       "      <th>Age</th>\n",
       "      <th>SibSp</th>\n",
       "      <th>Parch</th>\n",
       "      <th>Fare</th>\n",
       "      <th>Embarked</th>\n",
       "      <th>name2int</th>\n",
       "    </tr>\n",
       "  </thead>\n",
       "  <tbody>\n",
       "    <tr>\n",
       "      <th>count</th>\n",
       "      <td>891.000000</td>\n",
       "      <td>891.000000</td>\n",
       "      <td>891.000000</td>\n",
       "      <td>891.000000</td>\n",
       "      <td>891.000000</td>\n",
       "      <td>891.000000</td>\n",
       "      <td>891.000000</td>\n",
       "      <td>889.000000</td>\n",
       "      <td>891.000000</td>\n",
       "    </tr>\n",
       "    <tr>\n",
       "      <th>mean</th>\n",
       "      <td>0.383838</td>\n",
       "      <td>2.308642</td>\n",
       "      <td>0.352413</td>\n",
       "      <td>29.719607</td>\n",
       "      <td>0.523008</td>\n",
       "      <td>0.381594</td>\n",
       "      <td>32.204208</td>\n",
       "      <td>0.897638</td>\n",
       "      <td>1.607183</td>\n",
       "    </tr>\n",
       "    <tr>\n",
       "      <th>std</th>\n",
       "      <td>0.486592</td>\n",
       "      <td>0.836071</td>\n",
       "      <td>0.477990</td>\n",
       "      <td>13.261087</td>\n",
       "      <td>1.102743</td>\n",
       "      <td>0.806057</td>\n",
       "      <td>49.693429</td>\n",
       "      <td>0.515181</td>\n",
       "      <td>0.883376</td>\n",
       "    </tr>\n",
       "    <tr>\n",
       "      <th>min</th>\n",
       "      <td>0.000000</td>\n",
       "      <td>1.000000</td>\n",
       "      <td>0.000000</td>\n",
       "      <td>0.420000</td>\n",
       "      <td>0.000000</td>\n",
       "      <td>0.000000</td>\n",
       "      <td>0.000000</td>\n",
       "      <td>0.000000</td>\n",
       "      <td>0.000000</td>\n",
       "    </tr>\n",
       "    <tr>\n",
       "      <th>25%</th>\n",
       "      <td>0.000000</td>\n",
       "      <td>2.000000</td>\n",
       "      <td>0.000000</td>\n",
       "      <td>22.000000</td>\n",
       "      <td>0.000000</td>\n",
       "      <td>0.000000</td>\n",
       "      <td>7.910400</td>\n",
       "      <td>1.000000</td>\n",
       "      <td>1.000000</td>\n",
       "    </tr>\n",
       "    <tr>\n",
       "      <th>50%</th>\n",
       "      <td>0.000000</td>\n",
       "      <td>3.000000</td>\n",
       "      <td>0.000000</td>\n",
       "      <td>30.000000</td>\n",
       "      <td>0.000000</td>\n",
       "      <td>0.000000</td>\n",
       "      <td>14.454200</td>\n",
       "      <td>1.000000</td>\n",
       "      <td>2.000000</td>\n",
       "    </tr>\n",
       "    <tr>\n",
       "      <th>75%</th>\n",
       "      <td>1.000000</td>\n",
       "      <td>3.000000</td>\n",
       "      <td>1.000000</td>\n",
       "      <td>36.000000</td>\n",
       "      <td>1.000000</td>\n",
       "      <td>0.000000</td>\n",
       "      <td>31.000000</td>\n",
       "      <td>1.000000</td>\n",
       "      <td>2.000000</td>\n",
       "    </tr>\n",
       "    <tr>\n",
       "      <th>max</th>\n",
       "      <td>1.000000</td>\n",
       "      <td>3.000000</td>\n",
       "      <td>1.000000</td>\n",
       "      <td>80.000000</td>\n",
       "      <td>8.000000</td>\n",
       "      <td>6.000000</td>\n",
       "      <td>512.329200</td>\n",
       "      <td>2.000000</td>\n",
       "      <td>4.000000</td>\n",
       "    </tr>\n",
       "  </tbody>\n",
       "</table>\n",
       "</div>"
      ],
      "text/plain": [
       "         Survived      Pclass         Sex         Age       SibSp       Parch  \\\n",
       "count  891.000000  891.000000  891.000000  891.000000  891.000000  891.000000   \n",
       "mean     0.383838    2.308642    0.352413   29.719607    0.523008    0.381594   \n",
       "std      0.486592    0.836071    0.477990   13.261087    1.102743    0.806057   \n",
       "min      0.000000    1.000000    0.000000    0.420000    0.000000    0.000000   \n",
       "25%      0.000000    2.000000    0.000000   22.000000    0.000000    0.000000   \n",
       "50%      0.000000    3.000000    0.000000   30.000000    0.000000    0.000000   \n",
       "75%      1.000000    3.000000    1.000000   36.000000    1.000000    0.000000   \n",
       "max      1.000000    3.000000    1.000000   80.000000    8.000000    6.000000   \n",
       "\n",
       "             Fare    Embarked    name2int  \n",
       "count  891.000000  889.000000  891.000000  \n",
       "mean    32.204208    0.897638    1.607183  \n",
       "std     49.693429    0.515181    0.883376  \n",
       "min      0.000000    0.000000    0.000000  \n",
       "25%      7.910400    1.000000    1.000000  \n",
       "50%     14.454200    1.000000    2.000000  \n",
       "75%     31.000000    1.000000    2.000000  \n",
       "max    512.329200    2.000000    4.000000  "
      ]
     },
     "execution_count": 34,
     "metadata": {},
     "output_type": "execute_result"
    }
   ],
   "source": [
    "df.describe()"
   ]
  },
  {
   "cell_type": "code",
   "execution_count": 35,
   "metadata": {},
   "outputs": [
    {
     "data": {
      "text/html": [
       "<div>\n",
       "<style scoped>\n",
       "    .dataframe tbody tr th:only-of-type {\n",
       "        vertical-align: middle;\n",
       "    }\n",
       "\n",
       "    .dataframe tbody tr th {\n",
       "        vertical-align: top;\n",
       "    }\n",
       "\n",
       "    .dataframe thead th {\n",
       "        text-align: right;\n",
       "    }\n",
       "</style>\n",
       "<table border=\"1\" class=\"dataframe\">\n",
       "  <thead>\n",
       "    <tr style=\"text-align: right;\">\n",
       "      <th></th>\n",
       "      <th>Survived</th>\n",
       "      <th>Pclass</th>\n",
       "      <th>Sex</th>\n",
       "      <th>Age</th>\n",
       "      <th>SibSp</th>\n",
       "      <th>Parch</th>\n",
       "      <th>Fare</th>\n",
       "      <th>Embarked</th>\n",
       "      <th>name2int</th>\n",
       "    </tr>\n",
       "  </thead>\n",
       "  <tbody>\n",
       "    <tr>\n",
       "      <th>0</th>\n",
       "      <td>0</td>\n",
       "      <td>3</td>\n",
       "      <td>0</td>\n",
       "      <td>22.0</td>\n",
       "      <td>1</td>\n",
       "      <td>0</td>\n",
       "      <td>7.2500</td>\n",
       "      <td>1.0</td>\n",
       "      <td>2</td>\n",
       "    </tr>\n",
       "    <tr>\n",
       "      <th>1</th>\n",
       "      <td>1</td>\n",
       "      <td>1</td>\n",
       "      <td>1</td>\n",
       "      <td>38.0</td>\n",
       "      <td>1</td>\n",
       "      <td>0</td>\n",
       "      <td>71.2833</td>\n",
       "      <td>0.0</td>\n",
       "      <td>0</td>\n",
       "    </tr>\n",
       "    <tr>\n",
       "      <th>2</th>\n",
       "      <td>1</td>\n",
       "      <td>3</td>\n",
       "      <td>1</td>\n",
       "      <td>26.0</td>\n",
       "      <td>0</td>\n",
       "      <td>0</td>\n",
       "      <td>7.9250</td>\n",
       "      <td>1.0</td>\n",
       "      <td>1</td>\n",
       "    </tr>\n",
       "    <tr>\n",
       "      <th>3</th>\n",
       "      <td>1</td>\n",
       "      <td>1</td>\n",
       "      <td>1</td>\n",
       "      <td>35.0</td>\n",
       "      <td>1</td>\n",
       "      <td>0</td>\n",
       "      <td>53.1000</td>\n",
       "      <td>1.0</td>\n",
       "      <td>0</td>\n",
       "    </tr>\n",
       "    <tr>\n",
       "      <th>4</th>\n",
       "      <td>0</td>\n",
       "      <td>3</td>\n",
       "      <td>0</td>\n",
       "      <td>35.0</td>\n",
       "      <td>0</td>\n",
       "      <td>0</td>\n",
       "      <td>8.0500</td>\n",
       "      <td>1.0</td>\n",
       "      <td>2</td>\n",
       "    </tr>\n",
       "  </tbody>\n",
       "</table>\n",
       "</div>"
      ],
      "text/plain": [
       "   Survived  Pclass  Sex   Age  SibSp  Parch     Fare  Embarked  name2int\n",
       "0         0       3    0  22.0      1      0   7.2500       1.0         2\n",
       "1         1       1    1  38.0      1      0  71.2833       0.0         0\n",
       "2         1       3    1  26.0      0      0   7.9250       1.0         1\n",
       "3         1       1    1  35.0      1      0  53.1000       1.0         0\n",
       "4         0       3    0  35.0      0      0   8.0500       1.0         2"
      ]
     },
     "execution_count": 35,
     "metadata": {},
     "output_type": "execute_result"
    }
   ],
   "source": [
    "# df.head(40)\n",
    "df.head()"
   ]
  },
  {
   "cell_type": "code",
   "execution_count": 36,
   "metadata": {},
   "outputs": [
    {
     "name": "stderr",
     "output_type": "stream",
     "text": [
      "/usr/local/lib/python3.6/site-packages/numpy/core/fromnumeric.py:57: FutureWarning: reshape is deprecated and will raise in a subsequent release. Please use .values.reshape(...) instead\n",
      "  return getattr(obj, method)(*args, **kwds)\n"
     ]
    },
    {
     "data": {
      "text/plain": [
       "([array([  80.,   97.,  372.]), array([ 216.,  184.,  491.])],\n",
       " array([ 1.        ,  1.66666667,  2.33333333,  3.        ]),\n",
       " <a list of 2 Lists of Patches objects>)"
      ]
     },
     "execution_count": 36,
     "metadata": {},
     "output_type": "execute_result"
    },
    {
     "data": {
      "image/png": "[encoded data removed]",
      "text/plain": [
       "<matplotlib.figure.Figure at 0x10b906080>"
      ]
     },
     "metadata": {},
     "output_type": "display_data"
    }
   ],
   "source": [
    "split_data = []\n",
    "for survived in [0,1]:\n",
    "    split_data.append(df[df.Survived==survived])\n",
    "\n",
    "temp = [i[\"Pclass\"].dropna() for i in split_data]\n",
    "plt.hist(temp, histtype=\"barstacked\", bins=3)\n",
    "# 左から一等、二等、三等客室"
   ]
  },
  {
   "cell_type": "code",
   "execution_count": 37,
   "metadata": {},
   "outputs": [
    {
     "name": "stderr",
     "output_type": "stream",
     "text": [
      "/usr/local/lib/python3.6/site-packages/numpy/core/fromnumeric.py:57: FutureWarning: reshape is deprecated and will raise in a subsequent release. Please use .values.reshape(...) instead\n",
      "  return getattr(obj, method)(*args, **kwds)\n"
     ]
    },
    {
     "data": {
      "text/plain": [
       "([array([  15.,   13.,    8.,   63.,   94.,   66.,  152.,   42.,   31.,\n",
       "           23.,   14.,   11.,   10.,    3.,    4.,    0.]),\n",
       "  array([  48.,   20.,   19.,   96.,  158.,  108.,  207.,   84.,   48.,\n",
       "           39.,   24.,   18.,   14.,    3.,    4.,    1.])],\n",
       " array([  0.42   ,   5.39375,  10.3675 ,  15.34125,  20.315  ,  25.28875,\n",
       "         30.2625 ,  35.23625,  40.21   ,  45.18375,  50.1575 ,  55.13125,\n",
       "         60.105  ,  65.07875,  70.0525 ,  75.02625,  80.     ]),\n",
       " <a list of 2 Lists of Patches objects>)"
      ]
     },
     "execution_count": 37,
     "metadata": {},
     "output_type": "execute_result"
    },
    {
     "data": {
      "image/png": "[encoded data removed]",
      "text/plain": [
       "<matplotlib.figure.Figure at 0x10c9e59b0>"
      ]
     },
     "metadata": {},
     "output_type": "display_data"
    }
   ],
   "source": [
    "temp = [i[\"Age\"].dropna() for i in split_data]\n",
    "plt.hist(temp, histtype=\"barstacked\", bins=16)\n",
    "# 子供がいきてru ?????????? \n",
    "#  -> 子供づれの家族は早めに救助されたとか。\n",
    "## 高齢者が少ないのはそもそもの分母が少ない気がしている。"
   ]
  },
  {
   "cell_type": "code",
   "execution_count": null,
   "metadata": {},
   "outputs": [],
   "source": []
  },
  {
   "cell_type": "code",
   "execution_count": 38,
   "metadata": {},
   "outputs": [],
   "source": [
    "# y= np.array(df.loc[:, ['Survived']])"
   ]
  },
  {
   "cell_type": "code",
   "execution_count": 39,
   "metadata": {},
   "outputs": [
    {
     "data": {
      "text/plain": [
       "<matplotlib.axes._subplots.AxesSubplot at 0x10cbdedd8>"
      ]
     },
     "execution_count": 39,
     "metadata": {},
     "output_type": "execute_result"
    },
    {
     "data": {
      "image/png": "[encoded data removed]",
      "text/plain": [
       "<matplotlib.figure.Figure at 0x10cbf2048>"
      ]
     },
     "metadata": {},
     "output_type": "display_data"
    }
   ],
   "source": [
    "corrmat = df.corr()\n",
    "corrmat\n",
    "# 数値見にくい。。。。。。。\n",
    "f, ax = plt.subplots(figsize=(12,9))\n",
    "sns.heatmap(corrmat, vmax=.8, square=True)\n",
    "# 性別。。。\n",
    "# 生死に、ageはあんまり関係してない？→予想と外れている。。。。\n",
    "\n",
    "##推理：人間的な行動をとることを前提すれば、家族（子供づれ）は子供を守ったりするから生存率が高いような気がした。\n"
   ]
  },
  {
   "cell_type": "code",
   "execution_count": 40,
   "metadata": {},
   "outputs": [
    {
     "data": {
      "text/plain": [
       "0.83582089552238803"
      ]
     },
     "execution_count": 40,
     "metadata": {},
     "output_type": "execute_result"
    }
   ],
   "source": [
    "df.columns\n",
    "# Index(['Survived', 'Pclass', 'Sex', 'Age', 'SibSp', 'Parch', 'Fare', 'Embarked'], dtype='object')\n",
    "desc_data = df.loc[:,['Pclass', 'Sex', 'Age', 'SibSp', 'Parch', 'Fare', 'Embarked']]\n",
    "target_column = df.loc[:, ['Survived']]\n",
    "target_column = np.array(target_column).reshape(-1)\n",
    "x_train , x_test, y_train, y_test = train_test_split(desc_data, target_column ,test_size=0.3,random_state=0)\n",
    "x_train = x_train.values.astype(np.int64)\n",
    "x_test = x_test.values.astype(np.int64)\n",
    "\n",
    "rfc = RandomForestClassifier(random_state=0, n_estimators=10)\n",
    "rfc.fit(x_train,y_train)\n",
    "rfc.score(x_test, y_test)"
   ]
  },
  {
   "cell_type": "code",
   "execution_count": null,
   "metadata": {},
   "outputs": [],
   "source": []
  },
  {
   "cell_type": "code",
   "execution_count": 41,
   "metadata": {},
   "outputs": [
    {
     "data": {
      "text/plain": [
       "RandomForestClassifier(bootstrap=True, class_weight=None, criterion='gini',\n",
       "            max_depth=None, max_features='auto', max_leaf_nodes=None,\n",
       "            min_impurity_decrease=0.0, min_impurity_split=None,\n",
       "            min_samples_leaf=1, min_samples_split=2,\n",
       "            min_weight_fraction_leaf=0.0, n_estimators=100, n_jobs=1,\n",
       "            oob_score=False, random_state=0, verbose=0, warm_start=False)"
      ]
     },
     "execution_count": 41,
     "metadata": {},
     "output_type": "execute_result"
    }
   ],
   "source": [
    "\n",
    "# データセットの分割\n",
    "from sklearn.model_selection import train_test_split\n",
    "X_2_train, X_2_test, y_2_train, y_2_test = train_test_split(df,target_column, test_size=0.3, random_state=0)\n",
    "X_2_train = X_2_train.values.astype(np.int64)\n",
    "\n",
    "rfc_2 = RandomForestClassifier(random_state=0, n_estimators=100)\n",
    "rfc_2.fit(X_2_train, y_2_train)"
   ]
  },
  {
   "cell_type": "code",
   "execution_count": 42,
   "metadata": {},
   "outputs": [
    {
     "data": {
      "image/png": "[encoded data removed]",
      "text/plain": [
       "<matplotlib.figure.Figure at 0x10d311f98>"
      ]
     },
     "metadata": {},
     "output_type": "display_data"
    }
   ],
   "source": [
    "n_features = len(df.columns)\n",
    "plt.figure(figsize=(12, 8))\n",
    "plt.barh(range(n_features), rfc_2.feature_importances_ , align='center')\n",
    "plt.yticks(np.arange(n_features), df.columns)\n",
    "plt.show()\n",
    "## 性別。年齢。。。。\n",
    "## Fare.......? どうしようか。。。。"
   ]
  },
  {
   "cell_type": "code",
   "execution_count": null,
   "metadata": {},
   "outputs": [],
   "source": []
  },
  {
   "cell_type": "code",
   "execution_count": 49,
   "metadata": {},
   "outputs": [
    {
     "data": {
      "text/plain": [
       "<bound method ClassifierMixin.score of DecisionTreeClassifier(class_weight=None, criterion='gini', max_depth=None,\n",
       "            max_features=None, max_leaf_nodes=None,\n",
       "            min_impurity_decrease=0.0, min_impurity_split=None,\n",
       "            min_samples_leaf=1, min_samples_split=2,\n",
       "            min_weight_fraction_leaf=0.0, presort=False, random_state=0,\n",
       "            splitter='best')>"
      ]
     },
     "execution_count": 49,
     "metadata": {},
     "output_type": "execute_result"
    }
   ],
   "source": [
    "target = df['Survived'].values\n",
    "train = copy.deepcopy(df)\n",
    "\n",
    "## ------------------error--------------------------\n",
    "# svm = svm.LinearSVC()\n",
    "# svm.fit(train, target)\n",
    "# データの加工しないとダメ\n",
    "# ValueError: Input contains NaN, infinity or a value too large for dtype('float64').\n",
    "# https://qiita.com/twaka/items/eb3ff958f87ca1f4c971\n",
    "##########################################\n",
    "\n",
    "# train.drop('Survived', axis=1, inplace=True)\n",
    "train = train.values.astype(np.int64)\n",
    "# svm = svm.LinearSVC()\n",
    "# svm.fit(train, target)\n",
    "tree = DecisionTreeClassifier(random_state=0)\n",
    "tree.fit(train,target)\n",
    "tree.score"
   ]
  },
  {
   "cell_type": "code",
   "execution_count": 50,
   "metadata": {},
   "outputs": [],
   "source": [
    "# df_test =  pd.read_csv(\"../datasets/titanic_test.csv\")\n",
    "## 本当はこれを使ってkaggleにあげるけど、いったんはローカルで検証していたい。\n",
    "# df_test.drop(['PassengerId', 'Name', 'Ticket', 'Cabin'], axis=1, inplace=True)\n",
    "\n",
    "# df_test.Embarked = df_test.Embarked.replace([\"C\", \"S\",\"Q\"], [\"0\", \"1\",\"2\"])\n",
    "# df_test.Sex = df_test.Sex.replace(['male', 'female'], [0, 1])\n",
    "# df_test.Age = df_test.Age.replace('NaN', 0)\n",
    "# #df _test = df_test.values.astype(np.int64)\n",
    "\n"
   ]
  },
  {
   "cell_type": "code",
   "execution_count": null,
   "metadata": {
    "collapsed": true
   },
   "outputs": [],
   "source": []
  },
  {
   "cell_type": "code",
   "execution_count": 51,
   "metadata": {},
   "outputs": [],
   "source": [
    "# #########################################33\n",
    "# ## 名前の敬称を元に年齢を推測したい\n",
    "# ############################################\n",
    "\n",
    "# # 名前の敬称を\n",
    "# #{'Mrs':0 , 'Miss':1, 'Mr':2,'Master':3, 'その他':4}\n",
    "\n",
    "# name2int_ary = []\n",
    "# # a = 'Williams, Mr. Charles Eugene'\n",
    "# # if 'Mrs' in a:\n",
    "# #     print('Mr')\n",
    "# for name in np.array(df2.Name):\n",
    "#         tmp = name.split(',')[1]\n",
    "#         if  'Mrs' in tmp:\n",
    "#             #年上の既婚女性、夫人\t\n",
    "#             name2int_ary.append(0)\n",
    "#         elif 'Miss' in tmp:\n",
    "#             #若い未婚女性、お嬢さん\n",
    "#             name2int_ary.append(1)\n",
    "#         elif  'Mr' in tmp:\n",
    "#             #・既婚、未婚関わらず全ての成人男性\n",
    "#             name2int_ary.append(2)\n",
    "#         elif 'Master' in tmp:\n",
    "#             #Master\t\n",
    "#             name2int_ary.append(3)\n",
    "#         else:\n",
    "#             name2int_ary.append(4)\n",
    "#             # don Rev, Dr, Nme, Ms , Major, Col\n",
    "#             # のような敬称も存在するが微々たる個数のためまとめて管理。    \n",
    "\n",
    "\n",
    "## defilne  > name2int \n",
    "## define  >  embed_age\n",
    "## ふたつのメソッドの定義にて検証終了。\n",
    "\n"
   ]
  },
  {
   "cell_type": "code",
   "execution_count": 53,
   "metadata": {},
   "outputs": [
    {
     "name": "stderr",
     "output_type": "stream",
     "text": [
      "/usr/local/lib/python3.6/site-packages/numpy/core/fromnumeric.py:57: FutureWarning: reshape is deprecated and will raise in a subsequent release. Please use .values.reshape(...) instead\n",
      "  return getattr(obj, method)(*args, **kwds)\n"
     ]
    },
    {
     "data": {
      "image/png": "[encoded data removed]",
      "text/plain": [
       "<matplotlib.figure.Figure at 0x10d35f470>"
      ]
     },
     "metadata": {},
     "output_type": "display_data"
    }
   ],
   "source": [
    "tmp = [i[\"Fare\"].dropna() for i in split_data]\n",
    "plt.hist(tmp, normed=True, color=['red', 'blue'], label=['dead', 'alive'], histtype='bar', stacked=True, bins=20)\n",
    "plt.xlabel(\"Fare\")\n",
    "plt.ylabel(\"Survival rate\")\n",
    "plt.legend() \n",
    "plt.show()\n",
    "##　。。。果たして大きな影響を及ぼしているのか、。。？\n"
   ]
  },
  {
   "cell_type": "code",
   "execution_count": null,
   "metadata": {},
   "outputs": [],
   "source": []
  }
 ],
 "metadata": {
  "kernelspec": {
   "display_name": "Python 3",
   "language": "python",
   "name": "python3"
  },
  "language_info": {
   "codemirror_mode": {
    "name": "ipython",
    "version": 3
   },
   "file_extension": ".py",
   "mimetype": "text/x-python",
   "name": "python",
   "nbconvert_exporter": "python",
   "pygments_lexer": "ipython3",
   "version": "3.6.3"
  }
 },
 "nbformat": 4,
 "nbformat_minor": 2
}
