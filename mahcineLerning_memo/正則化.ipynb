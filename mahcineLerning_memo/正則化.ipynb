{
 "cells": [
  {
   "cell_type": "markdown",
   "metadata": {},
   "source": [
    "# 正則化とは\n",
    "   - モデルの複雑さを抑えることで過学習を防ぐテクニック\n",
    "   - 多項式回帰では、単項式回帰に比べ*モデルが複雑になりやすい*という欠点があり、`過学習` の可能性が高くなっていた\n",
    "   - 正則化の手法\n",
    "       - Ridge\n",
    "       - LASSO\n",
    "       - ElasticNet\n",
    "       \n",
    "## 過学習とは\n",
    "  - 学習済みデータには性格な分析ができるが、将来の予測データにはあまり強く無い状態のこと。\n",
    "   - 本質的でない特徴に、`汎化性能`を損なってしまいます  \n",
    "  \n",
    "  ## 予測誤差の要因\n",
    "    - Bias(未学習)\n",
    "      - モデルの表現力不足によって生じる誤差。  \n",
    "      - (３次関数に従ったデータを線形回帰したときはバイアスが大きいと言える) \n",
    "    - Variance(過学習)\n",
    "      - trainデータに過剰適合することによって生じる誤差。  \n",
    "      - （３次関数に従ったデータを７次関数で多項式回帰したときはバリアンスが大きいと言える）\n",
    "    - Noise\n",
    "      - データに混入している本質的で無い情報。  \n",
    "      - 機械学習の手法を用いても取り除くことができません。   \n",
    "   \n",
    "    ## 過学習の原因\n",
    "     - 重みパラメータの絶対値が極端に大きくなっていること。\n",
    "         - 極端なパラメータはモデルを複雑な関数にしてしまう  \n",
    "         - 重みパラメータの値を平易に保つことができれば、もでるが平易で滑らかな形になり、バリアンスは抑えられます。\n",
    "     - サンプルに対して説明変数が多い\n",
    "         - パラメータの数が増えると、多重共線性の可能性も高まるため  \n",
    "         - パラメータが増えると、学習により多くのサンプルを必要とするようになります。\n",
    "         - 説明変数を減らせば、あるいは多項式の次数を落とせばバリアンスは抑えられます。"
   ]
  },
  {
   "cell_type": "code",
   "execution_count": null,
   "metadata": {
    "collapsed": true
   },
   "outputs": [],
   "source": []
  }
 ],
 "metadata": {
  "kernelspec": {
   "display_name": "Python 3",
   "language": "python",
   "name": "python3"
  },
  "language_info": {
   "codemirror_mode": {
    "name": "ipython",
    "version": 3
   },
   "file_extension": ".py",
   "mimetype": "text/x-python",
   "name": "python",
   "nbconvert_exporter": "python",
   "pygments_lexer": "ipython3",
   "version": "3.6.2"
  }
 },
 "nbformat": 4,
 "nbformat_minor": 2
}
